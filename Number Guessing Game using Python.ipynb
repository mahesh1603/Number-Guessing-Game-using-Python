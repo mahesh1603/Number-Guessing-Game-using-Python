{
 "cells": [
  {
   "cell_type": "markdown",
   "id": "bd0f7c0f",
   "metadata": {},
   "source": [
    "# Number Guessing Game using Python"
   ]
  },
  {
   "cell_type": "markdown",
   "id": "c5126f7e",
   "metadata": {},
   "source": [
    "To create a guessing game, we need to write a program to select a random number between 1 and 10. \n",
    "\n",
    "To give hints to the user, we can use conditional statements to tell the user if the guessed number is smaller, greater than or equal to the randomly selected number."
   ]
  },
  {
   "cell_type": "code",
   "execution_count": 1,
   "id": "d6cc6067",
   "metadata": {},
   "outputs": [],
   "source": [
    "import random"
   ]
  },
  {
   "cell_type": "code",
   "execution_count": 2,
   "id": "45be05f0",
   "metadata": {},
   "outputs": [],
   "source": [
    "n = random.randrange(1,10)"
   ]
  },
  {
   "cell_type": "code",
   "execution_count": 3,
   "id": "e9266cf3",
   "metadata": {},
   "outputs": [
    {
     "name": "stdout",
     "output_type": "stream",
     "text": [
      "Enter any number: 10\n"
     ]
    }
   ],
   "source": [
    "guess = int(input(\"Enter any number: \"))"
   ]
  },
  {
   "cell_type": "code",
   "execution_count": 4,
   "id": "31d95c86",
   "metadata": {},
   "outputs": [
    {
     "name": "stdout",
     "output_type": "stream",
     "text": [
      "Too high!\n",
      "Enter number again: 8\n",
      "you guessed it right!!\n"
     ]
    }
   ],
   "source": [
    "while n!= guess:\n",
    "    if guess < n:\n",
    "        print(\"Too low\")\n",
    "        guess = int(input(\"Enter number again: \"))\n",
    "   \n",
    "    elif guess > n:\n",
    "        print(\"Too high!\")\n",
    "        guess = int(input(\"Enter number again: \"))\n",
    "    \n",
    "    else:\n",
    "      break\n",
    "print(\"you guessed it right!!\")"
   ]
  },
  {
   "cell_type": "code",
   "execution_count": 5,
   "id": "b49cde58",
   "metadata": {},
   "outputs": [
    {
     "name": "stdout",
     "output_type": "stream",
     "text": [
      "Enter any number: 5\n"
     ]
    }
   ],
   "source": [
    "guess = int(input(\"Enter any number: \"))"
   ]
  },
  {
   "cell_type": "code",
   "execution_count": 6,
   "id": "a1636cf5",
   "metadata": {},
   "outputs": [
    {
     "name": "stdout",
     "output_type": "stream",
     "text": [
      "Too low\n",
      "Enter number again: 6\n",
      "Too low\n",
      "Enter number again: 7\n",
      "Too low\n",
      "Enter number again: 9\n",
      "Too high!\n",
      "Enter number again: 4\n",
      "Too low\n",
      "Enter number again: 5\n",
      "Too low\n",
      "Enter number again: 10\n",
      "Too high!\n",
      "Enter number again: 3\n",
      "Too low\n",
      "Enter number again: 2\n",
      "Too low\n",
      "Enter number again: 1\n",
      "Too low\n",
      "Enter number again: 0\n",
      "Too low\n",
      "Enter number again: 8\n",
      "you guessed it right!!\n"
     ]
    }
   ],
   "source": [
    "while n!= guess:\n",
    "    if guess < n:\n",
    "        print(\"Too low\")\n",
    "        guess = int(input(\"Enter number again: \"))\n",
    "   \n",
    "    elif guess > n:\n",
    "        print(\"Too high!\")\n",
    "        guess = int(input(\"Enter number again: \"))\n",
    "    \n",
    "    else:\n",
    "      break\n",
    "print(\"you guessed it right!!\")"
   ]
  },
  {
   "cell_type": "markdown",
   "id": "98a86698",
   "metadata": {},
   "source": [
    "If the guessed number is lower than the randomly selected number, the user will see “too low”. \n",
    "\n",
    "If the guessed number is higher than the randomly selected number, the user will see “too high”. \n",
    "\n",
    "When the user guesses the correct number, “you guessed it right!!” will be displayed in the output."
   ]
  },
  {
   "cell_type": "code",
   "execution_count": null,
   "id": "f4320a28",
   "metadata": {},
   "outputs": [],
   "source": []
  }
 ],
 "metadata": {
  "kernelspec": {
   "display_name": "Python 3 (ipykernel)",
   "language": "python",
   "name": "python3"
  },
  "language_info": {
   "codemirror_mode": {
    "name": "ipython",
    "version": 3
   },
   "file_extension": ".py",
   "mimetype": "text/x-python",
   "name": "python",
   "nbconvert_exporter": "python",
   "pygments_lexer": "ipython3",
   "version": "3.9.12"
  }
 },
 "nbformat": 4,
 "nbformat_minor": 5
}
